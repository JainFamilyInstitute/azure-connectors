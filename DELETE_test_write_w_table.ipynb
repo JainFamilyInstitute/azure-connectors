{
 "cells": [
  {
   "cell_type": "code",
   "execution_count": 1,
   "metadata": {},
   "outputs": [],
   "source": [
    "import pandas as pd\n",
    "from azure_connectors import AzureSqlConnection\n",
    "import polars as pl\n",
    "import sqlalchemy\n",
    "from sqlalchemy import (\n",
    "    Table,\n",
    "    Column,\n",
    "    Integer,\n",
    "    String,\n",
    "    MetaData,\n",
    "    PrimaryKeyConstraint,\n",
    "    text,\n",
    ")"
   ]
  },
  {
   "cell_type": "code",
   "execution_count": 2,
   "metadata": {},
   "outputs": [],
   "source": [
    "sql_info = AzureSqlConnection.from_env()\n",
    "engine: sqlalchemy.Engine = sql_info.engine"
   ]
  },
  {
   "cell_type": "code",
   "execution_count": 3,
   "metadata": {},
   "outputs": [],
   "source": [
    "# # 2. Sample DataFrame with 'id' column\n",
    "# data = {\"id\": [1, 2, 3], \"name\": [\"Alice\", \"Bob\", \"Charlie\"], \"age\": [25, 30, 35]}\n",
    "# df = pd.DataFrame(data)\n",
    "\n",
    "# # 3. Define dtype mapping including 'id'\n",
    "# dtype_mapping = {\"id\": Integer(), \"name\": String(50), \"age\": Integer()}\n",
    "\n",
    "# # 4. Insert data with IDENTITY_INSERT enabled\n",
    "# with engine.begin() as connection:\n",
    "#     try:\n",
    "#         # Enable IDENTITY_INSERT\n",
    "#         connection.execute(text(\"SET IDENTITY_INSERT detailed_upload_test ON;\"))\n",
    "\n",
    "#         # Insert data\n",
    "#         df.to_sql(\n",
    "#             \"detailed_upload_test\",\n",
    "#             con=connection,\n",
    "#             if_exists=\"\",\n",
    "#             index=False,\n",
    "#             dtype=dtype_mapping,\n",
    "#         )\n",
    "\n",
    "#         print(\"Data inserted successfully with explicit 'id' values.\")\n",
    "\n",
    "#     except Exception as e:\n",
    "#         print(f\"Error during data insertion: {e}\")\n",
    "#         # The transaction will automatically rollback on exception\n",
    "#     finally:\n",
    "#         # Disable IDENTITY_INSERT\n",
    "#         connection.execute(text(\"SET IDENTITY_INSERT detailed_upload_test OFF;\"))"
   ]
  },
  {
   "cell_type": "markdown",
   "metadata": {},
   "source": [
    "# With SQLAlchemy MetaData"
   ]
  },
  {
   "cell_type": "markdown",
   "metadata": {},
   "source": [
    "# New code"
   ]
  },
  {
   "cell_type": "code",
   "execution_count": 4,
   "metadata": {},
   "outputs": [],
   "source": [
    "from azure_connectors.dataframe_io.write import write_df_from_sqltable\n",
    "from sqlalchemy import Table, Column, Integer, String, MetaData, PrimaryKeyConstraint, Flo"
   ]
  },
  {
   "cell_type": "code",
   "execution_count": 5,
   "metadata": {},
   "outputs": [],
   "source": [
    "metadata = MetaData()"
   ]
  },
  {
   "cell_type": "code",
   "execution_count": 6,
   "metadata": {},
   "outputs": [],
   "source": [
    "test_table = Table(\n",
    "    \"metadata_test\",\n",
    "    metadata,\n",
    "    Column(\"id\", Integer, primary_key=True),\n",
    "    Column(\"name\", String(50, collation=\"Latin1_General_CI_AI\"), nullable=False),\n",
    "    Column(\"age\", Integer, nullable=False),\n",
    ")"
   ]
  },
  {
   "cell_type": "code",
   "execution_count": 7,
   "metadata": {},
   "outputs": [],
   "source": [
    "data = {\"id\": [1, 2, 3], \"name\": [\"Alice\", \"Bob\", \"Charlie\"], \"age\": [25, 30, 35]}\n",
    "df = pl.DataFrame(data)"
   ]
  },
  {
   "cell_type": "code",
   "execution_count": 8,
   "metadata": {},
   "outputs": [
    {
     "data": {
      "text/html": [
       "<div><style>\n",
       ".dataframe > thead > tr,\n",
       ".dataframe > tbody > tr {\n",
       "  text-align: right;\n",
       "  white-space: pre-wrap;\n",
       "}\n",
       "</style>\n",
       "<small>shape: (3, 3)</small><table border=\"1\" class=\"dataframe\"><thead><tr><th>id</th><th>name</th><th>age</th></tr><tr><td>i64</td><td>str</td><td>i64</td></tr></thead><tbody><tr><td>1</td><td>&quot;Alice&quot;</td><td>25</td></tr><tr><td>2</td><td>&quot;Bob&quot;</td><td>30</td></tr><tr><td>3</td><td>&quot;Charlie&quot;</td><td>35</td></tr></tbody></table></div>"
      ],
      "text/plain": [
       "shape: (3, 3)\n",
       "┌─────┬─────────┬─────┐\n",
       "│ id  ┆ name    ┆ age │\n",
       "│ --- ┆ ---     ┆ --- │\n",
       "│ i64 ┆ str     ┆ i64 │\n",
       "╞═════╪═════════╪═════╡\n",
       "│ 1   ┆ Alice   ┆ 25  │\n",
       "│ 2   ┆ Bob     ┆ 30  │\n",
       "│ 3   ┆ Charlie ┆ 35  │\n",
       "└─────┴─────────┴─────┘"
      ]
     },
     "execution_count": 8,
     "metadata": {},
     "output_type": "execute_result"
    }
   ],
   "source": [
    "df"
   ]
  },
  {
   "cell_type": "code",
   "execution_count": 9,
   "metadata": {},
   "outputs": [],
   "source": [
    "write_df_from_sqltable(df, if_table_exists=\"append\", table=test_table)"
   ]
  }
 ],
 "metadata": {
  "kernelspec": {
   "display_name": ".venv",
   "language": "python",
   "name": "python3"
  },
  "language_info": {
   "codemirror_mode": {
    "name": "ipython",
    "version": 3
   },
   "file_extension": ".py",
   "mimetype": "text/x-python",
   "name": "python",
   "nbconvert_exporter": "python",
   "pygments_lexer": "ipython3",
   "version": "3.11.9"
  }
 },
 "nbformat": 4,
 "nbformat_minor": 2
}
